{
 "cells": [
  {
   "cell_type": "markdown",
   "id": "1b901b26-5498-4a03-b639-f90699b06a2a",
   "metadata": {},
   "source": [
    "## Import Package and Load Config"
   ]
  },
  {
   "cell_type": "code",
   "execution_count": 11,
   "id": "d35dfb4d-e9c7-4091-bdba-cd09b90216ef",
   "metadata": {},
   "outputs": [
    {
     "data": {
      "application/vnd.jupyter.widget-view+json": {
       "model_id": "c2b15460ce0e4f0a89fbbd24a7e61d51",
       "version_major": 2,
       "version_minor": 0
      },
      "text/plain": [
       "Text(value='')"
      ]
     },
     "metadata": {},
     "output_type": "display_data"
    }
   ],
   "source": [
    "from modules.models import RRDB_Model\n",
    "from modules.utils import (load_yaml, set_memory_growth, imresize_np,\n",
    "                           tensor2img, rgb2ycbcr, create_lr_hr_pair,\n",
    "                           calculate_psnr, calculate_ssim)\n",
    "import numpy as np\n",
    "import tensorflow as tf\n",
    "import os\n",
    "import ipywidgets as widgets\t# 控件库\n",
    "from IPython.display import display\t# 显示控件的方法\n",
    "text = widgets.Text()\n",
    "display(text)\n",
    "cfg_path=\"./configs/esrgan.yaml\"\n",
    "def print_value(sender):\n",
    "    if os.path.isfile(sender.value):\n",
    "        cfg_path=sender.value\n",
    "\n",
    "text.on_submit(print_value)\n",
    "set_memory_growth()\n"
   ]
  },
  {
   "cell_type": "code",
   "execution_count": 12,
   "id": "b22ae0be-207b-42da-8421-947ee22bf8e4",
   "metadata": {},
   "outputs": [],
   "source": [
    "cfg = load_yaml(cfg_path)"
   ]
  },
  {
   "cell_type": "markdown",
   "id": "ddabedd2-331a-4630-a94d-15eb28db9e27",
   "metadata": {},
   "source": [
    "## Load Model"
   ]
  },
  {
   "cell_type": "code",
   "execution_count": 13,
   "id": "c928a2d2-e317-419a-ae6f-592666cb5fe3",
   "metadata": {},
   "outputs": [
    {
     "name": "stdout",
     "output_type": "stream",
     "text": [
      "WARNING:tensorflow:Inconsistent references when loading the checkpoint into this object graph. Either the Trackable object references in the Python program have changed in an incompatible way, or the checkpoint was generated in an incompatible program.\n",
      "\n",
      "Two checkpoint references resolved to different objects (<keras.layers.convolutional.Conv2D object at 0x7fa858defd60> and <keras.layers.core.tf_op_layer.TFOpLambda object at 0x7fa851a219d0>).\n"
     ]
    },
    {
     "name": "stderr",
     "output_type": "stream",
     "text": [
      "WARNING:tensorflow:Inconsistent references when loading the checkpoint into this object graph. Either the Trackable object references in the Python program have changed in an incompatible way, or the checkpoint was generated in an incompatible program.\n",
      "\n",
      "Two checkpoint references resolved to different objects (<keras.layers.convolutional.Conv2D object at 0x7fa858defd60> and <keras.layers.core.tf_op_layer.TFOpLambda object at 0x7fa851a219d0>).\n"
     ]
    },
    {
     "name": "stdout",
     "output_type": "stream",
     "text": [
      "WARNING:tensorflow:Inconsistent references when loading the checkpoint into this object graph. Either the Trackable object references in the Python program have changed in an incompatible way, or the checkpoint was generated in an incompatible program.\n",
      "\n",
      "Two checkpoint references resolved to different objects (<keras.layers.convolutional.Conv2D object at 0x7fa851a21280> and <keras.layers.core.tf_op_layer.SlicingOpLambda object at 0x7fa851a21820>).\n"
     ]
    },
    {
     "name": "stderr",
     "output_type": "stream",
     "text": [
      "WARNING:tensorflow:Inconsistent references when loading the checkpoint into this object graph. Either the Trackable object references in the Python program have changed in an incompatible way, or the checkpoint was generated in an incompatible program.\n",
      "\n",
      "Two checkpoint references resolved to different objects (<keras.layers.convolutional.Conv2D object at 0x7fa851a21280> and <keras.layers.core.tf_op_layer.SlicingOpLambda object at 0x7fa851a21820>).\n"
     ]
    },
    {
     "name": "stdout",
     "output_type": "stream",
     "text": [
      "WARNING:tensorflow:Inconsistent references when loading the checkpoint into this object graph. Either the Trackable object references in the Python program have changed in an incompatible way, or the checkpoint was generated in an incompatible program.\n",
      "\n",
      "Two checkpoint references resolved to different objects (<keras.layers.convolutional.Conv2D object at 0x7fa889c4d940> and <keras.layers.core.tf_op_layer.TFOpLambda object at 0x7fa858defe20>).\n"
     ]
    },
    {
     "name": "stderr",
     "output_type": "stream",
     "text": [
      "WARNING:tensorflow:Inconsistent references when loading the checkpoint into this object graph. Either the Trackable object references in the Python program have changed in an incompatible way, or the checkpoint was generated in an incompatible program.\n",
      "\n",
      "Two checkpoint references resolved to different objects (<keras.layers.convolutional.Conv2D object at 0x7fa889c4d940> and <keras.layers.core.tf_op_layer.TFOpLambda object at 0x7fa858defe20>).\n"
     ]
    },
    {
     "name": "stdout",
     "output_type": "stream",
     "text": [
      "WARNING:tensorflow:Inconsistent references when loading the checkpoint into this object graph. Either the Trackable object references in the Python program have changed in an incompatible way, or the checkpoint was generated in an incompatible program.\n",
      "\n",
      "Two checkpoint references resolved to different objects (<keras.layers.convolutional.Conv2D object at 0x7fa859aef250> and <keras.layers.core.tf_op_layer.TFOpLambda object at 0x7fa858def2b0>).\n"
     ]
    },
    {
     "name": "stderr",
     "output_type": "stream",
     "text": [
      "WARNING:tensorflow:Inconsistent references when loading the checkpoint into this object graph. Either the Trackable object references in the Python program have changed in an incompatible way, or the checkpoint was generated in an incompatible program.\n",
      "\n",
      "Two checkpoint references resolved to different objects (<keras.layers.convolutional.Conv2D object at 0x7fa859aef250> and <keras.layers.core.tf_op_layer.TFOpLambda object at 0x7fa858def2b0>).\n"
     ]
    },
    {
     "name": "stdout",
     "output_type": "stream",
     "text": [
      "[*] load ckpt from ./checkpoints/esrgan/ckpt-580.\n"
     ]
    }
   ],
   "source": [
    "model = RRDB_Model(None, cfg['ch_size'], cfg['network_G'])\n",
    "checkpoint_dir = './checkpoints/' + cfg['sub_name']\n",
    "checkpoint = tf.train.Checkpoint(model=model)\n",
    "if tf.train.latest_checkpoint(checkpoint_dir):\n",
    "    checkpoint.restore(tf.train.latest_checkpoint(checkpoint_dir))\n",
    "    print(\"[*] load ckpt from {}.\".format(\n",
    "            tf.train.latest_checkpoint(checkpoint_dir)))"
   ]
  },
  {
   "cell_type": "markdown",
   "id": "d771f64b-58a1-471e-92aa-7be5ca6c360d",
   "metadata": {},
   "source": [
    "## Save to SavedModel Format"
   ]
  },
  {
   "cell_type": "code",
   "execution_count": 14,
   "id": "f186bdcf-ebd9-4d39-872f-7e2e9751f3cb",
   "metadata": {},
   "outputs": [
    {
     "name": "stderr",
     "output_type": "stream",
     "text": [
      "WARNING:absl:Found untraced functions such as leaky_re_lu_693_layer_call_fn, leaky_re_lu_693_layer_call_and_return_conditional_losses, leaky_re_lu_694_layer_call_fn, leaky_re_lu_694_layer_call_and_return_conditional_losses, leaky_re_lu_695_layer_call_fn while saving (showing 5 of 3810). These functions will not be directly callable after loading.\n"
     ]
    },
    {
     "name": "stdout",
     "output_type": "stream",
     "text": [
      "INFO:tensorflow:Assets written to: saved_model/assets\n"
     ]
    },
    {
     "name": "stderr",
     "output_type": "stream",
     "text": [
      "INFO:tensorflow:Assets written to: saved_model/assets\n"
     ]
    }
   ],
   "source": [
    "tf.saved_model.save(\n",
    "    model, 'saved_model', #signatures=model.signatures['serving_default']#, options=None\n",
    ")"
   ]
  },
  {
   "cell_type": "markdown",
   "id": "cfec902e-bd07-4dcd-9070-3ae12e3f3618",
   "metadata": {},
   "source": [
    "## Convert SavedModel To Onnx"
   ]
  },
  {
   "cell_type": "code",
   "execution_count": 15,
   "id": "d8255a1b-897e-4319-8096-31cd0e74de38",
   "metadata": {},
   "outputs": [
    {
     "name": "stdout",
     "output_type": "stream",
     "text": [
      "Looking in indexes: https://pypi.org/simple, https://pypi.ngc.nvidia.com\n",
      "Requirement already satisfied: tf2onnx in /opt/conda/lib/python3.8/site-packages (1.9.3)\n",
      "Requirement already satisfied: numpy>=1.14.1 in /opt/conda/lib/python3.8/site-packages (from tf2onnx) (1.19.5)\n",
      "Requirement already satisfied: requests in /opt/conda/lib/python3.8/site-packages (from tf2onnx) (2.26.0)\n",
      "Requirement already satisfied: flatbuffers~=1.12 in /opt/conda/lib/python3.8/site-packages (from tf2onnx) (1.12)\n",
      "Requirement already satisfied: six in /opt/conda/lib/python3.8/site-packages (from tf2onnx) (1.16.0)\n",
      "Requirement already satisfied: onnx>=1.4.1 in /opt/conda/lib/python3.8/site-packages (from tf2onnx) (1.11.0)\n",
      "Requirement already satisfied: typing-extensions>=3.6.2.1 in /opt/conda/lib/python3.8/site-packages (from onnx>=1.4.1->tf2onnx) (3.10.0.2)\n",
      "Requirement already satisfied: protobuf>=3.12.2 in /opt/conda/lib/python3.8/site-packages (from onnx>=1.4.1->tf2onnx) (3.18.1)\n",
      "Requirement already satisfied: certifi>=2017.4.17 in /opt/conda/lib/python3.8/site-packages (from requests->tf2onnx) (2021.5.30)\n",
      "Requirement already satisfied: urllib3<1.27,>=1.21.1 in /opt/conda/lib/python3.8/site-packages (from requests->tf2onnx) (1.26.7)\n",
      "Requirement already satisfied: idna<4,>=2.5 in /opt/conda/lib/python3.8/site-packages (from requests->tf2onnx) (3.1)\n",
      "Requirement already satisfied: charset-normalizer~=2.0.0 in /opt/conda/lib/python3.8/site-packages (from requests->tf2onnx) (2.0.0)\n",
      "\u001b[33mWARNING: Running pip as the 'root' user can result in broken permissions and conflicting behaviour with the system package manager. It is recommended to use a virtual environment instead: https://pip.pypa.io/warnings/venv\u001b[0m\n",
      "\u001b[33mWARNING: You are using pip version 21.3.1; however, version 22.0.4 is available.\n",
      "You should consider upgrading via the '/opt/conda/bin/python -m pip install --upgrade pip' command.\u001b[0m\n",
      "/opt/conda/lib/python3.8/runpy.py:127: RuntimeWarning: 'tf2onnx.convert' found in sys.modules after import of package 'tf2onnx', but prior to execution of 'tf2onnx.convert'; this may result in unpredictable behaviour\n",
      "  warn(RuntimeWarning(msg))\n",
      "2022-04-04 08:42:32,297 - WARNING - '--tag' not specified for saved_model. Using --tag serve\n",
      "2022-04-04 08:42:43,284 - INFO - Signatures found in model: [serving_default].\n",
      "2022-04-04 08:42:43,284 - WARNING - '--signature_def' not specified, using first signature: serving_default\n",
      "2022-04-04 08:42:43,286 - INFO - Output names: ['conv_last']\n",
      "WARNING:tensorflow:From /opt/conda/lib/python3.8/site-packages/tf2onnx/tf_loader.py:706: extract_sub_graph (from tensorflow.python.framework.graph_util_impl) is deprecated and will be removed in a future version.\n",
      "Instructions for updating:\n",
      "Use `tf.compat.v1.graph_util.extract_sub_graph`\n",
      "2022-04-04 08:42:46,107 - WARNING - From /opt/conda/lib/python3.8/site-packages/tf2onnx/tf_loader.py:706: extract_sub_graph (from tensorflow.python.framework.graph_util_impl) is deprecated and will be removed in a future version.\n",
      "Instructions for updating:\n",
      "Use `tf.compat.v1.graph_util.extract_sub_graph`\n",
      "2022-04-04 08:42:47,584 - INFO - Using tensorflow=2.7.1, onnx=1.11.0, tf2onnx=1.9.3/1190aa\n",
      "2022-04-04 08:42:47,584 - INFO - Using opset <onnx, 13>\n",
      "2022-04-04 08:42:50,336 - INFO - Computed 0 values for constant folding\n",
      "2022-04-04 08:42:52,883 - INFO - Optimizing ONNX model\n",
      "2022-04-04 08:43:00,703 - INFO - After optimization: Cast -1 (4->3), Const -389 (1100->711), Gather +1 (0->1), Identity -5 (5->0), Shape -2 (4->2), Transpose -704 (706->2)\n",
      "2022-04-04 08:43:01,133 - INFO - \n",
      "2022-04-04 08:43:01,133 - INFO - Successfully converted TensorFlow model saved_model to ONNX\n",
      "2022-04-04 08:43:01,133 - INFO - Model inputs: ['input_image']\n",
      "2022-04-04 08:43:01,133 - INFO - Model outputs: ['conv_last']\n",
      "2022-04-04 08:43:01,133 - INFO - ONNX model is saved at esrgan.onnx\n"
     ]
    }
   ],
   "source": [
    "!pip install -U tf2onnx\n",
    "!python -m tf2onnx.convert --saved-model saved_model --opset 13 --output esrgan.onnx"
   ]
  },
  {
   "cell_type": "code",
   "execution_count": null,
   "id": "2f114c35-07c7-4ff3-814f-0b21f26d7b1a",
   "metadata": {},
   "outputs": [],
   "source": []
  }
 ],
 "metadata": {
  "kernelspec": {
   "display_name": "Python 3 (ipykernel)",
   "language": "python",
   "name": "python3"
  },
  "language_info": {
   "codemirror_mode": {
    "name": "ipython",
    "version": 3
   },
   "file_extension": ".py",
   "mimetype": "text/x-python",
   "name": "python",
   "nbconvert_exporter": "python",
   "pygments_lexer": "ipython3",
   "version": "3.8.12"
  }
 },
 "nbformat": 4,
 "nbformat_minor": 5
}
